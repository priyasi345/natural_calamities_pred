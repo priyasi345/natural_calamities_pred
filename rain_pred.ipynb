{
  "nbformat": 4,
  "nbformat_minor": 0,
  "metadata": {
    "colab": {
      "name": "Untitled372.ipynb",
      "provenance": []
    },
    "kernelspec": {
      "name": "python3",
      "display_name": "Python 3"
    }
  },
  "cells": [
    {
      "cell_type": "code",
      "metadata": {
        "id": "plI1brgm1wTu",
        "colab_type": "code",
        "colab": {
          "base_uri": "https://localhost:8080/",
          "height": 70
        },
        "outputId": "5096ae42-75b7-4dea-8118-009989d1f1d6"
      },
      "source": [
        "import pandas as pd\n",
        "import numpy as np\n",
        "import math\n",
        "import sklearn\n",
        "from sklearn.model_selection import train_test_split\n",
        "from sklearn.metrics import mean_squared_error,r2_score,mean_absolute_error\n",
        "import matplotlib.pyplot as plt\n",
        "import seaborn as sb\n",
        "from sklearn import preprocessing"
      ],
      "execution_count": 1,
      "outputs": [
        {
          "output_type": "stream",
          "text": [
            "/usr/local/lib/python3.6/dist-packages/statsmodels/tools/_testing.py:19: FutureWarning: pandas.util.testing is deprecated. Use the functions in the public API at pandas.testing instead.\n",
            "  import pandas.util.testing as tm\n"
          ],
          "name": "stderr"
        }
      ]
    },
    {
      "cell_type": "code",
      "metadata": {
        "id": "UmibAoEQ18SG",
        "colab_type": "code",
        "colab": {
          "base_uri": "https://localhost:8080/",
          "height": 1000
        },
        "outputId": "edd4242e-98a9-4562-d6d5-fc480c1bbf1a"
      },
      "source": [
        "\n",
        "data=pd.read_csv(\"/content/rainfall.csv\")\n",
        "print(\"Data heads:\")\n",
        "print(data.head())\n",
        "print(\"Null values in the dataset before preprocessing:\")\n",
        "print(data.isnull().sum())\n",
        "print(\"Filling null values with mean of that particular column\")\n",
        "data=data.fillna(np.mean(data))\n",
        "print(\"Mean of data:\")\n",
        "print(np.mean(data))\n",
        "print(\"Null values in the dataset after preprocessing:\")\n",
        "print(data.isnull().sum())\n",
        "print(\"\\n\\nShape: \",data.shape)\n"
      ],
      "execution_count": 2,
      "outputs": [
        {
          "output_type": "stream",
          "text": [
            "Data heads:\n",
            "                 SUBDIVISION  YEAR   JAN  ...  Mar-May  Jun-Sep  Oct-Dec\n",
            "0  ANDAMAN & NICOBAR ISLANDS  1901  49.2  ...    560.3   1696.3    980.3\n",
            "1  ANDAMAN & NICOBAR ISLANDS  1902   0.0  ...    458.3   2185.9    716.7\n",
            "2  ANDAMAN & NICOBAR ISLANDS  1903  12.7  ...    236.1   1874.0    690.6\n",
            "3  ANDAMAN & NICOBAR ISLANDS  1904   9.4  ...    506.9   1977.6    571.0\n",
            "4  ANDAMAN & NICOBAR ISLANDS  1905   1.3  ...    309.7   1624.9    630.8\n",
            "\n",
            "[5 rows x 19 columns]\n",
            "Null values in the dataset before preprocessing:\n",
            "SUBDIVISION     0\n",
            "YEAR            0\n",
            "JAN             4\n",
            "FEB             3\n",
            "MAR             6\n",
            "APR             4\n",
            "MAY             3\n",
            "JUN             5\n",
            "JUL             7\n",
            "AUG             4\n",
            "SEP             6\n",
            "OCT             7\n",
            "NOV            11\n",
            "DEC            10\n",
            "ANNUAL         26\n",
            "Jan-Feb         6\n",
            "Mar-May         9\n",
            "Jun-Sep        10\n",
            "Oct-Dec        13\n",
            "dtype: int64\n",
            "Filling null values with mean of that particular column\n",
            "Mean of data:\n",
            "YEAR       1958.218659\n",
            "JAN          18.957320\n",
            "FEB          21.805325\n",
            "MAR          27.359197\n",
            "APR          43.127432\n",
            "MAY          85.745417\n",
            "JUN         230.234444\n",
            "JUL         347.214334\n",
            "AUG         290.263497\n",
            "SEP         197.361922\n",
            "OCT          95.507009\n",
            "NOV          39.866163\n",
            "DEC          18.870580\n",
            "ANNUAL     1411.008900\n",
            "Jan-Feb      40.747786\n",
            "Mar-May     155.901753\n",
            "Jun-Sep    1064.724769\n",
            "Oct-Dec     154.100487\n",
            "dtype: float64\n",
            "Null values in the dataset after preprocessing:\n",
            "SUBDIVISION    0\n",
            "YEAR           0\n",
            "JAN            0\n",
            "FEB            0\n",
            "MAR            0\n",
            "APR            0\n",
            "MAY            0\n",
            "JUN            0\n",
            "JUL            0\n",
            "AUG            0\n",
            "SEP            0\n",
            "OCT            0\n",
            "NOV            0\n",
            "DEC            0\n",
            "ANNUAL         0\n",
            "Jan-Feb        0\n",
            "Mar-May        0\n",
            "Jun-Sep        0\n",
            "Oct-Dec        0\n",
            "dtype: int64\n",
            "\n",
            "\n",
            "Shape:  (4116, 19)\n"
          ],
          "name": "stdout"
        }
      ]
    },
    {
      "cell_type": "code",
      "metadata": {
        "id": "CeEIklsY2g9a",
        "colab_type": "code",
        "colab": {
          "base_uri": "https://localhost:8080/",
          "height": 487
        },
        "outputId": "ea090374-4edc-4921-c495-5ce386834f6b"
      },
      "source": [
        "print(\"Info:\")\n",
        "print(data.info())\n"
      ],
      "execution_count": 3,
      "outputs": [
        {
          "output_type": "stream",
          "text": [
            "Info:\n",
            "<class 'pandas.core.frame.DataFrame'>\n",
            "RangeIndex: 4116 entries, 0 to 4115\n",
            "Data columns (total 19 columns):\n",
            " #   Column       Non-Null Count  Dtype  \n",
            "---  ------       --------------  -----  \n",
            " 0   SUBDIVISION  4116 non-null   object \n",
            " 1   YEAR         4116 non-null   int64  \n",
            " 2   JAN          4116 non-null   float64\n",
            " 3   FEB          4116 non-null   float64\n",
            " 4   MAR          4116 non-null   float64\n",
            " 5   APR          4116 non-null   float64\n",
            " 6   MAY          4116 non-null   float64\n",
            " 7   JUN          4116 non-null   float64\n",
            " 8   JUL          4116 non-null   float64\n",
            " 9   AUG          4116 non-null   float64\n",
            " 10  SEP          4116 non-null   float64\n",
            " 11  OCT          4116 non-null   float64\n",
            " 12  NOV          4116 non-null   float64\n",
            " 13  DEC          4116 non-null   float64\n",
            " 14  ANNUAL       4116 non-null   float64\n",
            " 15  Jan-Feb      4116 non-null   float64\n",
            " 16  Mar-May      4116 non-null   float64\n",
            " 17  Jun-Sep      4116 non-null   float64\n",
            " 18  Oct-Dec      4116 non-null   float64\n",
            "dtypes: float64(17), int64(1), object(1)\n",
            "memory usage: 611.1+ KB\n",
            "None\n"
          ],
          "name": "stdout"
        }
      ]
    },
    {
      "cell_type": "code",
      "metadata": {
        "id": "LAJEX-qB2qSh",
        "colab_type": "code",
        "colab": {
          "base_uri": "https://localhost:8080/",
          "height": 672
        },
        "outputId": "bf40b960-f57a-49c3-e86c-bd70c61aca77"
      },
      "source": [
        "print(\"Group by:\")\n",
        "data.groupby('SUBDIVISION').size()"
      ],
      "execution_count": 5,
      "outputs": [
        {
          "output_type": "stream",
          "text": [
            "Group by:\n"
          ],
          "name": "stdout"
        },
        {
          "output_type": "execute_result",
          "data": {
            "text/plain": [
              "SUBDIVISION\n",
              "ANDAMAN & NICOBAR ISLANDS             110\n",
              "ARUNACHAL PRADESH                      97\n",
              "ASSAM & MEGHALAYA                     115\n",
              "BIHAR                                 115\n",
              "CHHATTISGARH                          115\n",
              "COASTAL ANDHRA PRADESH                115\n",
              "COASTAL KARNATAKA                     115\n",
              "EAST MADHYA PRADESH                   115\n",
              "EAST RAJASTHAN                        115\n",
              "EAST UTTAR PRADESH                    115\n",
              "GANGETIC WEST BENGAL                  115\n",
              "GUJARAT REGION                        115\n",
              "HARYANA DELHI & CHANDIGARH            115\n",
              "HIMACHAL PRADESH                      115\n",
              "JAMMU & KASHMIR                       115\n",
              "JHARKHAND                             115\n",
              "KERALA                                115\n",
              "KONKAN & GOA                          115\n",
              "LAKSHADWEEP                           114\n",
              "MADHYA MAHARASHTRA                    115\n",
              "MATATHWADA                            115\n",
              "NAGA MANI MIZO TRIPURA                115\n",
              "NORTH INTERIOR KARNATAKA              115\n",
              "ORISSA                                115\n",
              "PUNJAB                                115\n",
              "RAYALSEEMA                            115\n",
              "SAURASHTRA & KUTCH                    115\n",
              "SOUTH INTERIOR KARNATAKA              115\n",
              "SUB HIMALAYAN WEST BENGAL & SIKKIM    115\n",
              "TAMIL NADU                            115\n",
              "TELANGANA                             115\n",
              "UTTARAKHAND                           115\n",
              "VIDARBHA                              115\n",
              "WEST MADHYA PRADESH                   115\n",
              "WEST RAJASTHAN                        115\n",
              "WEST UTTAR PRADESH                    115\n",
              "dtype: int64"
            ]
          },
          "metadata": {
            "tags": []
          },
          "execution_count": 5
        }
      ]
    },
    {
      "cell_type": "code",
      "metadata": {
        "id": "gQ6J2b812twa",
        "colab_type": "code",
        "colab": {
          "base_uri": "https://localhost:8080/",
          "height": 742
        },
        "outputId": "8642a8e8-816e-4875-aace-617d7b8cfb38"
      },
      "source": [
        "print(\"Co-Variance =\",data.cov())\n",
        "print(\"Co-Relation =\",data.corr())"
      ],
      "execution_count": 6,
      "outputs": [
        {
          "output_type": "stream",
          "text": [
            "Co-Variance =                 YEAR          JAN  ...        Jun-Sep       Oct-Dec\n",
            "YEAR     1098.319127   -62.525455  ...    -220.389375    -56.011703\n",
            "JAN       -62.525455  1126.880700  ...    -537.708253    507.405040\n",
            "FEB       -26.333846   549.299548  ...    1291.239831    130.324910\n",
            "MAR        31.608776   627.375837  ...    5354.542547    702.446620\n",
            "APR        17.985597   475.344306  ...   18800.990715   3611.891111\n",
            "MAY        14.668989   535.377197  ...   43086.245286  10689.487044\n",
            "JUN      -105.646427  -265.334667  ...  147777.656772  15929.294431\n",
            "JUL      -144.815256  -465.128448  ...  172787.647754   8543.095960\n",
            "AUG        40.268753    75.536029  ...  111996.536530   4889.354198\n",
            "SEP       -29.893921   110.216877  ...   67119.849971   7199.381976\n",
            "OCT         7.922814    41.252990  ...   29204.838323  14283.355731\n",
            "NOV       -42.624271   154.517515  ...    6116.134359   9219.400872\n",
            "DEC       -26.804831   311.215537  ...    1265.311019   4279.018309\n",
            "ANNUAL   -239.492392  3182.200682  ...  598334.762240  79154.756536\n",
            "Jan-Feb   -87.619668  1675.112786  ...     756.357901    630.248247\n",
            "Mar-May    70.841300  1632.972340  ...   66774.885424  14946.235220\n",
            "Jun-Sep  -220.389375  -537.708253  ...  499680.824907  36465.214924\n",
            "Oct-Dec   -56.011703   507.405040  ...   36465.214924  27781.806104\n",
            "\n",
            "[18 rows x 18 columns]\n",
            "Co-Relation =              YEAR       JAN       FEB  ...   Mar-May   Jun-Sep   Oct-Dec\n",
            "YEAR     1.000000 -0.056202 -0.022136  ...  0.010630 -0.009408 -0.010140\n",
            "JAN     -0.056202  1.000000  0.455847  ...  0.241899 -0.022660  0.090685\n",
            "FEB     -0.022136  0.455847  1.000000  ...  0.381608  0.050887  0.021782\n",
            "MAR      0.020325  0.398275  0.578410  ...  0.641975  0.161425  0.089811\n",
            "APR      0.008005  0.208858  0.366564  ...  0.861953  0.392298  0.319622\n",
            "MAY      0.003593  0.129463  0.202766  ...  0.913500  0.494785  0.520597\n",
            "JUN     -0.013590 -0.033697  0.033658  ...  0.536289  0.891237  0.407425\n",
            "JUL     -0.016225 -0.051449  0.016191  ...  0.312482  0.907639  0.190319\n",
            "AUG      0.006440  0.011926  0.072109  ...  0.317891  0.839722  0.155471\n",
            "SEP     -0.006666  0.024265  0.079993  ...  0.468689  0.701740  0.319217\n",
            "OCT      0.002404  0.012359 -0.004574  ...  0.466282  0.415501  0.861813\n",
            "NOV     -0.018750  0.067105 -0.023288  ...  0.270758  0.126138  0.806379\n",
            "DEC     -0.019113  0.219077  0.132250  ...  0.226786  0.042298  0.606649\n",
            "ANNUAL  -0.008021  0.105213  0.180311  ...  0.691419  0.939463  0.527082\n",
            "Jan-Feb -0.044611  0.841989  0.863589  ...  0.367937  0.018054  0.063802\n",
            "Mar-May  0.010630  0.241899  0.381608  ...  1.000000  0.469745  0.445909\n",
            "Jun-Sep -0.009408 -0.022660  0.050887  ...  0.469745  1.000000  0.309494\n",
            "Oct-Dec -0.010140  0.090685  0.021782  ...  0.445909  0.309494  1.000000\n",
            "\n",
            "[18 rows x 18 columns]\n"
          ],
          "name": "stdout"
        }
      ]
    },
    {
      "cell_type": "code",
      "metadata": {
        "id": "aL0CTJuA2230",
        "colab_type": "code",
        "colab": {
          "base_uri": "https://localhost:8080/",
          "height": 104
        },
        "outputId": "47baa77a-cede-4053-bca2-db96e3d3f74f"
      },
      "source": [
        "corr_cols=data.corr()['ANNUAL'].sort_values()[::-1]\n",
        "print(\"Index of correlation columns:\",corr_cols.index)\n"
      ],
      "execution_count": 7,
      "outputs": [
        {
          "output_type": "stream",
          "text": [
            "Index of correlation columns: Index(['ANNUAL', 'Jun-Sep', 'JUN', 'JUL', 'AUG', 'SEP', 'MAY', 'Mar-May',\n",
            "       'OCT', 'APR', 'Oct-Dec', 'MAR', 'NOV', 'DEC', 'FEB', 'Jan-Feb', 'JAN',\n",
            "       'YEAR'],\n",
            "      dtype='object')\n"
          ],
          "name": "stdout"
        }
      ]
    },
    {
      "cell_type": "code",
      "metadata": {
        "id": "9ZVgOtUF25Ib",
        "colab_type": "code",
        "colab": {
          "base_uri": "https://localhost:8080/",
          "height": 298
        },
        "outputId": "6bb0abd3-3374-4670-966b-939e95821f25"
      },
      "source": [
        "print(\"Scatter plot of annual and january attributes\")\n",
        "plt.scatter(data.ANNUAL,data.JAN)\n"
      ],
      "execution_count": 8,
      "outputs": [
        {
          "output_type": "stream",
          "text": [
            "Scatter plot of annual and january attributes\n"
          ],
          "name": "stdout"
        },
        {
          "output_type": "execute_result",
          "data": {
            "text/plain": [
              "<matplotlib.collections.PathCollection at 0x7f05f3ad8cf8>"
            ]
          },
          "metadata": {
            "tags": []
          },
          "execution_count": 8
        },
        {
          "output_type": "display_data",
          "data": {
            "image/png": "[encoded data removed]",
            "text/plain": [
              "<Figure size 432x288 with 1 Axes>"
            ]
          },
          "metadata": {
            "tags": [],
            "needs_background": "light"
          }
        }
      ]
    },
    {
      "cell_type": "code",
      "metadata": {
        "id": "1PcupWdR3Exe",
        "colab_type": "code",
        "colab": {
          "base_uri": "https://localhost:8080/",
          "height": 298
        },
        "outputId": "752a16b2-3901-4f63-8a9b-5e4cfc68b5ce"
      },
      "source": [
        "print(\"Box Plot of annual rainfall data in years 1901-2015\")\n",
        "data['ANNUAL'].plot(kind='box',sharex=False,sharey=False)\n"
      ],
      "execution_count": 9,
      "outputs": [
        {
          "output_type": "stream",
          "text": [
            "Box Plot of annual rainfall data in years 1901-2015\n"
          ],
          "name": "stdout"
        },
        {
          "output_type": "execute_result",
          "data": {
            "text/plain": [
              "<matplotlib.axes._subplots.AxesSubplot at 0x7f05f3b540b8>"
            ]
          },
          "metadata": {
            "tags": []
          },
          "execution_count": 9
        },
        {
          "output_type": "display_data",
          "data": {
            "image/png": "[encoded data removed]",
            "text/plain": [
              "<Figure size 432x288 with 1 Axes>"
            ]
          },
          "metadata": {
            "tags": [],
            "needs_background": "light"
          }
        }
      ]
    },
    {
      "cell_type": "code",
      "metadata": {
        "id": "XeZwZOE-3Ibb",
        "colab_type": "code",
        "colab": {
          "base_uri": "https://localhost:8080/",
          "height": 318
        },
        "outputId": "8a46284b-5984-44f8-b84d-cc39d536590b"
      },
      "source": [
        "print(\"Histograms showing the data from attributes (JANUARY to DECEMBER) of the years 1901-2015:\")\n",
        "data['JAN'].hist(bins=20)\n",
        "data['FEB'].hist(bins=20)\n",
        "data['MAR'].hist(bins=20)\n",
        "data['APR'].hist(bins=20)\n",
        "data['MAY'].hist(bins=20)\n",
        "data['JUN'].hist(bins=20)\n",
        "data['JUL'].hist(bins=20)\n",
        "data['AUG'].hist(bins=20)\n",
        "data['SEP'].hist(bins=20)\n",
        "data['OCT'].hist(bins=20)\n",
        "data['NOV'].hist(bins=20)\n",
        "data['DEC'].hist(bins=20)\n"
      ],
      "execution_count": 10,
      "outputs": [
        {
          "output_type": "stream",
          "text": [
            "Histograms showing the data from attributes (JANUARY to DECEMBER) of the years 1901-2015:\n"
          ],
          "name": "stdout"
        },
        {
          "output_type": "execute_result",
          "data": {
            "text/plain": [
              "<matplotlib.axes._subplots.AxesSubplot at 0x7f05f3a8a748>"
            ]
          },
          "metadata": {
            "tags": []
          },
          "execution_count": 10
        },
        {
          "output_type": "display_data",
          "data": {
            "image/png": "[encoded data removed]",
            "text/plain": [
              "<Figure size 432x288 with 1 Axes>"
            ]
          },
          "metadata": {
            "tags": [],
            "needs_background": "light"
          }
        }
      ]
    },
    {
      "cell_type": "code",
      "metadata": {
        "id": "X00LX0wn3Ld3",
        "colab_type": "code",
        "colab": {
          "base_uri": "https://localhost:8080/",
          "height": 298
        },
        "outputId": "ebc19960-d334-486a-92a2-25f78a9ddac0"
      },
      "source": [
        "print(\"Histogram showing the annual rainfall of the all states:\")\n",
        "data['ANNUAL'].hist(bins=20)\n"
      ],
      "execution_count": 11,
      "outputs": [
        {
          "output_type": "stream",
          "text": [
            "Histogram showing the annual rainfall of the all states:\n"
          ],
          "name": "stdout"
        },
        {
          "output_type": "execute_result",
          "data": {
            "text/plain": [
              "<matplotlib.axes._subplots.AxesSubplot at 0x7f05f3a84e80>"
            ]
          },
          "metadata": {
            "tags": []
          },
          "execution_count": 11
        },
        {
          "output_type": "display_data",
          "data": {
            "image/png": "[encoded data removed]",
            "text/plain": [
              "<Figure size 432x288 with 1 Axes>"
            ]
          },
          "metadata": {
            "tags": [],
            "needs_background": "light"
          }
        }
      ]
    },
    {
      "cell_type": "code",
      "metadata": {
        "id": "OzzAjuJN3Ose",
        "colab_type": "code",
        "colab": {
          "base_uri": "https://localhost:8080/",
          "height": 302
        },
        "outputId": "a6825d9c-e327-4435-e50a-eb291e11dd6b"
      },
      "source": [
        "print(\"Violin plot of the ANNUAL attribute :-\")\n",
        "sb.violinplot(data=data['ANNUAL'])\n"
      ],
      "execution_count": 12,
      "outputs": [
        {
          "output_type": "stream",
          "text": [
            "Violin plot of the ANNUAL attribute :-\n"
          ],
          "name": "stdout"
        },
        {
          "output_type": "execute_result",
          "data": {
            "text/plain": [
              "<matplotlib.axes._subplots.AxesSubplot at 0x7f05f329f940>"
            ]
          },
          "metadata": {
            "tags": []
          },
          "execution_count": 12
        },
        {
          "output_type": "display_data",
          "data": {
            "image/png": "[encoded data removed]",
            "text/plain": [
              "<Figure size 432x288 with 1 Axes>"
            ]
          },
          "metadata": {
            "tags": [],
            "needs_background": "light"
          }
        }
      ]
    },
    {
      "cell_type": "code",
      "metadata": {
        "id": "3Sw4UiC23AND",
        "colab_type": "code",
        "colab": {
          "base_uri": "https://localhost:8080/",
          "height": 398
        },
        "outputId": "e3b7e1b3-7b95-4e2b-d4fb-8bfcec963205"
      },
      "source": [
        "from sklearn import linear_model\n",
        "print(\"___Multiple Linear regression model between annual rainfall and the periodic rainfall___\")\n",
        "y=data['ANNUAL']\n",
        "x=data[['Jan-Feb','Mar-May','Jun-Sep','Oct-Dec']]\n",
        "train_x,test_x,train_y,test_y=train_test_split(x,y,test_size=0.3,shuffle=False)\n",
        "'''train_x=train_x[:,np.newaxis]\n",
        "test_x=test_x[:,np.newaxis]'''\n",
        "print(\"Train x shape\",train_x.shape,\"; Test_x\",test_x.shape)\n",
        "print(\"Train y shape\",train_y.shape,\"; Test_y\",test_y.shape)\n",
        "lm=linear_model.LinearRegression()\n",
        "lm.fit(train_x,train_y)\n",
        "pred=lm.predict(test_x)\n",
        "#print(test_y)\n",
        "#print(pred)\n",
        "print(\"Mean Squared Error =\",mean_squared_error(test_y,pred))\n",
        "print(\"Root Mean Squared Error =\",np.sqrt(mean_squared_error(test_y,pred)))\n",
        "print(\"Mean Absolute Error =\",mean_absolute_error(test_y,pred))\n",
        "print(\"r2_score =\",r2_score(test_y,pred))\n",
        "plt.scatter(pred,test_y)\n",
        "plt.xlabel('TRAIN_X')\n",
        "plt.ylabel('TRAIN_Y')\n",
        "plt.show()\n"
      ],
      "execution_count": 23,
      "outputs": [
        {
          "output_type": "stream",
          "text": [
            "___Multiple Linear regression model between annual rainfall and the periodic rainfall___\n",
            "Train x shape (2881, 4) ; Test_x (1235, 4)\n",
            "Train y shape (2881,) ; Test_y (1235,)\n",
            "Mean Squared Error = 3326.41575354187\n",
            "Root Mean Squared Error = 57.675087806971476\n",
            "Mean Absolute Error = 10.953757241508555\n",
            "r2_score = 0.9958637383726687\n"
          ],
          "name": "stdout"
        },
        {
          "output_type": "display_data",
          "data": {
            "image/png": "[encoded data removed]",
            "text/plain": [
              "<Figure size 432x288 with 1 Axes>"
            ]
          },
          "metadata": {
            "tags": [],
            "needs_background": "light"
          }
        }
      ]
    }
  ]
}